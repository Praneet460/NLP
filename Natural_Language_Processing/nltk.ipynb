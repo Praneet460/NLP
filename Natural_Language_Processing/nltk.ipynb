{
 "cells": [
  {
   "cell_type": "markdown",
   "metadata": {},
   "source": [
    "### Get Started With NLTK"
   ]
  },
  {
   "cell_type": "code",
   "execution_count": 1,
   "metadata": {},
   "outputs": [],
   "source": [
    "import nltk"
   ]
  },
  {
   "cell_type": "code",
   "execution_count": 2,
   "metadata": {},
   "outputs": [
    {
     "name": "stdout",
     "output_type": "stream",
     "text": [
      "*** Introductory Examples for the NLTK Book ***\n",
      "Loading text1, ..., text9 and sent1, ..., sent9\n",
      "Type the name of the text or sentence to view it.\n",
      "Type: 'texts()' or 'sents()' to list the materials.\n",
      "text1: Moby Dick by Herman Melville 1851\n",
      "text2: Sense and Sensibility by Jane Austen 1811\n",
      "text3: The Book of Genesis\n",
      "text4: Inaugural Address Corpus\n",
      "text5: Chat Corpus\n",
      "text6: Monty Python and the Holy Grail\n",
      "text7: Wall Street Journal\n",
      "text8: Personals Corpus\n",
      "text9: The Man Who Was Thursday by G . K . Chesterton 1908\n"
     ]
    }
   ],
   "source": [
    "from nltk.book import *"
   ]
  },
  {
   "cell_type": "code",
   "execution_count": 3,
   "metadata": {},
   "outputs": [
    {
     "data": {
      "text/plain": [
       "<Text: Moby Dick by Herman Melville 1851>"
      ]
     },
     "execution_count": 3,
     "metadata": {},
     "output_type": "execute_result"
    }
   ],
   "source": [
    "text1"
   ]
  },
  {
   "cell_type": "code",
   "execution_count": 4,
   "metadata": {},
   "outputs": [
    {
     "name": "stdout",
     "output_type": "stream",
     "text": [
      "<Text: Sense and Sensibility by Jane Austen 1811>\n"
     ]
    }
   ],
   "source": [
    "print(text2)"
   ]
  },
  {
   "cell_type": "code",
   "execution_count": 5,
   "metadata": {},
   "outputs": [
    {
     "data": {
      "text/plain": [
       "['Call', 'me', 'Ishmael', '.']"
      ]
     },
     "execution_count": 5,
     "metadata": {},
     "output_type": "execute_result"
    }
   ],
   "source": [
    "sent1"
   ]
  },
  {
   "cell_type": "code",
   "execution_count": 6,
   "metadata": {},
   "outputs": [
    {
     "name": "stdout",
     "output_type": "stream",
     "text": [
      "['THE', 'suburb', 'of', 'Saffron', 'Park', 'lay', 'on', 'the', 'sunset', 'side', 'of', 'London', ',', 'as', 'red', 'and', 'ragged', 'as', 'a', 'cloud', 'of', 'sunset', '.']\n"
     ]
    }
   ],
   "source": [
    "print(sent9)"
   ]
  },
  {
   "cell_type": "code",
   "execution_count": 7,
   "metadata": {},
   "outputs": [
    {
     "name": "stdout",
     "output_type": "stream",
     "text": [
      "Displaying 11 of 11 matches:\n",
      "ong the former , one was of a most monstrous size . ... This came towards us , \n",
      "ON OF THE PSALMS . \" Touching that monstrous bulk of the whale or ork we have r\n",
      "ll over with a heathenish array of monstrous clubs and spears . Some were thick\n",
      "d as you gazed , and wondered what monstrous cannibal and savage could ever hav\n",
      "that has survived the flood ; most monstrous and most mountainous ! That Himmal\n",
      "they might scout at Moby Dick as a monstrous fable , or still worse and more de\n",
      "th of Radney .'\" CHAPTER 55 Of the Monstrous Pictures of Whales . I shall ere l\n",
      "ing Scenes . In connexion with the monstrous pictures of whales , I am strongly\n",
      "ere to enter upon those still more monstrous stories of them which are to be fo\n",
      "ght have been rummaged out of this monstrous cabinet there is no telling . But \n",
      "of Whale - Bones ; for Whales of a monstrous size are oftentimes cast up dead u\n"
     ]
    }
   ],
   "source": [
    "# Searching text 'monstrous' in text1\n",
    "text1.concordance('monstrous')"
   ]
  },
  {
   "cell_type": "code",
   "execution_count": 8,
   "metadata": {},
   "outputs": [
    {
     "name": "stdout",
     "output_type": "stream",
     "text": [
      "Displaying 25 of 79 matches:\n",
      ", however , and , as a mark of his affection for the three girls , he left them\n",
      "t . It was very well known that no affection was ever supposed to exist between\n",
      "deration of politeness or maternal affection on the side of the former , the tw\n",
      "d the suspicion -- the hope of his affection for me may warrant , without impru\n",
      "hich forbade the indulgence of his affection . She knew that his mother neither\n",
      "rd she gave one with still greater affection . Though her late conversation wit\n",
      " can never hope to feel or inspire affection again , and if her home be uncomfo\n",
      "m of the sense , elegance , mutual affection , and domestic comfort of the fami\n",
      ", and which recommended him to her affection beyond every thing else . His soci\n",
      "ween the parties might forward the affection of Mr . Willoughby , an equally st\n",
      " the most pointed assurance of her affection . Elinor could not be surprised at\n",
      "he natural consequence of a strong affection in a young and ardent mind . This \n",
      " opinion . But by an appeal to her affection for her mother , by representing t\n",
      " every alteration of a place which affection had established as perfect with hi\n",
      "e will always have one claim of my affection , which no other can possibly shar\n",
      "f the evening declared at once his affection and happiness . \" Shall we see you\n",
      "ause he took leave of us with less affection than his usual behaviour has shewn\n",
      "ness .\" \" I want no proof of their affection ,\" said Elinor ; \" but of their en\n",
      "onths , without telling her of his affection ;-- that they should part without \n",
      "ould be the natural result of your affection for her . She used to be all unres\n",
      "distinguished Elinor by no mark of affection . Marianne saw and listened with i\n",
      "th no inclination for expense , no affection for strangers , no profession , an\n",
      "till distinguished her by the same affection which once she had felt no doubt o\n",
      "al of her confidence in Edward ' s affection , to the remembrance of every mark\n",
      " was made ? Had he never owned his affection to yourself ?\" \" Oh , no ; but if \n"
     ]
    }
   ],
   "source": [
    "# Searching text 'affection' in text2\n",
    "text2.concordance('affection')"
   ]
  },
  {
   "cell_type": "code",
   "execution_count": 9,
   "metadata": {},
   "outputs": [
    {
     "data": {
      "text/plain": [
       "<Text: The Book of Genesis>"
      ]
     },
     "execution_count": 9,
     "metadata": {},
     "output_type": "execute_result"
    }
   ],
   "source": [
    "text3"
   ]
  },
  {
   "cell_type": "code",
   "execution_count": 10,
   "metadata": {},
   "outputs": [
    {
     "name": "stdout",
     "output_type": "stream",
     "text": [
      "Displaying 25 of 38 matches:\n",
      "ay when they were created . And Adam lived an hundred and thirty years , and be\n",
      "ughters : And all the days that Adam lived were nine hundred and thirty yea and\n",
      "nd thirty yea and he died . And Seth lived an hundred and five years , and bega\n",
      "ve years , and begat Enos : And Seth lived after he begat Enos eight hundred an\n",
      "welve years : and he died . And Enos lived ninety years , and begat Cainan : An\n",
      " years , and begat Cainan : And Enos lived after he begat Cainan eight hundred \n",
      "ive years : and he died . And Cainan lived seventy years and begat Mahalaleel :\n",
      "rs and begat Mahalaleel : And Cainan lived after he begat Mahalaleel eight hund\n",
      "years : and he died . And Mahalaleel lived sixty and five years , and begat Jar\n",
      "s , and begat Jared : And Mahalaleel lived after he begat Jared eight hundred a\n",
      "and five yea and he died . And Jared lived an hundred sixty and two years , and\n",
      "o years , and he begat Eno And Jared lived after he begat Enoch eight hundred y\n",
      " and two yea and he died . And Enoch lived sixty and five years , and begat Met\n",
      " ; for God took him . And Methuselah lived an hundred eighty and seven years , \n",
      " , and begat Lamech . And Methuselah lived after he begat Lamech seven hundred \n",
      "nd nine yea and he died . And Lamech lived an hundred eighty and two years , an\n",
      "ch the LORD hath cursed . And Lamech lived after he begat Noah five hundred nin\n",
      "naan shall be his servant . And Noah lived after the flood three hundred and fi\n",
      "xad two years after the flo And Shem lived after he begat Arphaxad five hundred\n",
      "at sons and daughters . And Arphaxad lived five and thirty years , and begat Sa\n",
      "ars , and begat Salah : And Arphaxad lived after he begat Salah four hundred an\n",
      "begat sons and daughters . And Salah lived thirty years , and begat Eber : And \n",
      "y years , and begat Eber : And Salah lived after he begat Eber four hundred and\n",
      " begat sons and daughters . And Eber lived four and thirty years , and begat Pe\n",
      "y years , and begat Peleg : And Eber lived after he begat Peleg four hundred an\n"
     ]
    }
   ],
   "source": [
    "# Search for the text 'lived' in text3\n",
    "text3.concordance('lived')"
   ]
  },
  {
   "cell_type": "code",
   "execution_count": 11,
   "metadata": {},
   "outputs": [
    {
     "data": {
      "text/plain": [
       "<Text: Inaugural Address Corpus>"
      ]
     },
     "execution_count": 11,
     "metadata": {},
     "output_type": "execute_result"
    }
   ],
   "source": [
    "text4"
   ]
  },
  {
   "cell_type": "code",
   "execution_count": 12,
   "metadata": {},
   "outputs": [
    {
     "name": "stdout",
     "output_type": "stream",
     "text": [
      "Displaying 25 of 302 matches:\n",
      " to the character of an independent nation seems to have been distinguished by\n",
      "f Heaven can never be expected on a nation that disregards the eternal rules o\n",
      "first , the representatives of this nation , then consisting of little more th\n",
      ", situation , and relations of this nation and country than any which had ever\n",
      ", prosperity , and happiness of the nation I have acquired an habitual attachm\n",
      "an be no spectacle presented by any nation more pleasing , more noble , majest\n",
      "party for its own ends , not of the nation for the national good . If that sol\n",
      "tures and the people throughout the nation . On this subject it might become m\n",
      "if a personal esteem for the French nation , formed in a residence of seven ye\n",
      "f our fellow - citizens by whatever nation , and if success can not be obtaine\n",
      "y , continue His blessing upon this nation and its Government and give it all \n",
      "powers so justly inspire . A rising nation , spread over a wide and fruitful l\n",
      "ing now decided by the voice of the nation , announced according to the rules \n",
      "ars witness to the fact that a just nation is trusted on its word when recours\n",
      "e union of opinion which gives to a nation the blessing of harmony and the ben\n",
      "uil suffrage of a free and virtuous nation , would under any circumstances hav\n",
      "d spirit and united councils of the nation will be safeguards to its honor and\n",
      "iction that the war with a powerful nation , which forms so prominent a featur\n",
      "out breaking down the spirit of the nation , destroying all confidence in itse\n",
      "ed on the military resources of the nation . These resources are amply suffici\n",
      "the war to an honorable issue . Our nation is in number more than half that of\n",
      "ndividually have been happy and the nation prosperous . Under this Constitutio\n",
      "rights , and is able to protect the nation against injustice from foreign powe\n",
      " great agricultural interest of the nation prospers under its protection . Loc\n",
      "ak our Union , and demolish us as a nation . Our distance from Europe and the \n"
     ]
    }
   ],
   "source": [
    "text4.concordance('nation')"
   ]
  },
  {
   "cell_type": "code",
   "execution_count": 13,
   "metadata": {},
   "outputs": [
    {
     "name": "stdout",
     "output_type": "stream",
     "text": [
      "Displaying 8 of 8 matches:\n",
      "menaces , by fraud or violence , by terror , intrigue , or venality , the Gove\n",
      "ameless , unreasoning , unjustified terror which paralyzes needed efforts to c\n",
      "ublic seemed frozen by a fatalistic terror , we proved that this is not true .\n",
      " to alter that uncertain balance of terror that stays the hand of mankind ' s \n",
      "eans freeing all Americans from the terror of runaway living costs . All must \n",
      "still . They fuel the fanaticism of terror . And they torment the lives of mil\n",
      "d maintain a strong defense against terror and destruction . Our children will\n",
      "k to advance their aims by inducing terror and slaughtering innocents , we say\n"
     ]
    }
   ],
   "source": [
    "text4.concordance('terror')"
   ]
  },
  {
   "cell_type": "code",
   "execution_count": 14,
   "metadata": {},
   "outputs": [
    {
     "name": "stdout",
     "output_type": "stream",
     "text": [
      "Displaying 25 of 98 matches:\n",
      "eliance on the protection of Almighty God , I shall forthwith commence the duti\n",
      "humble , acknowledged dependence upon God and His overruling providence . We ha\n",
      "great office I must humbly invoke the God of our fathers for wisdom and firmnes\n",
      "d the same Bible and pray to the same God , and each invokes His aid against th\n",
      "hat any men should dare to ask a just God ' s assistance in wringing their brea\n",
      "offenses which , in the providence of God , must needs come , but which , havin\n",
      "butes which the believers in a living God always ascribe to Him ? Fondly do we \n",
      "war may speedily pass away . Yet , if God wills that it continue until all the \n",
      "r all , with firmness in the right as God gives us to see the right , let us st\n",
      "the prayers of the nation to Almighty God in behalf of this consummation . Fell\n",
      "r , they have \" followed the light as God gave them to see the light .\" They ar\n",
      "ess their fathers and their fathers ' God that the Union was preserved , that s\n",
      "the support and blessings of Almighty God . Fellow citizens , in the presence o\n",
      "ng the power and goodness of Almighty God , who presides over the destiny of na\n",
      "expect the favor and help of Almighty God -- that He will give to me wisdom , s\n",
      " suggestion to enterprise and labor . God has placed upon our head a diadem and\n",
      "urn than the pledge I now give before God and these witnesses of unreserved and\n",
      "han human life can escape the laws of God and nature . Manifestly nothing is mo\n",
      "and invoking the guidance of Almighty God . Our faith teaches that there is no \n",
      "re is no safer reliance than upon the God of our fathers , who has so singularl\n",
      "e the direction and favor of Almighty God . I should shrink from the duties thi\n",
      " devolve upon it , and in the fear of God will \" take occasion by the hand and \n",
      " citizens and the aid of the Almighty God in the discharge of my responsible du\n",
      "our heartstrings like some air out of God ' s own presence , where justice and \n",
      " forward - looking men , to my side . God helping me , I will not fail them , i\n"
     ]
    }
   ],
   "source": [
    "text4.concordance('god')"
   ]
  },
  {
   "cell_type": "code",
   "execution_count": 15,
   "metadata": {},
   "outputs": [
    {
     "data": {
      "text/plain": [
       "<Text: Chat Corpus>"
      ]
     },
     "execution_count": 15,
     "metadata": {},
     "output_type": "execute_result"
    }
   ],
   "source": [
    "text5"
   ]
  },
  {
   "cell_type": "code",
   "execution_count": 16,
   "metadata": {},
   "outputs": [
    {
     "name": "stdout",
     "output_type": "stream",
     "text": [
      "Displaying 25 of 149 matches:\n",
      "                                      im left with this gay name :P PART hey e\n",
      "what did you but on e-bay i feel like im in the wrong room yeee haw U30 im con\n",
      "ike im in the wrong room yeee haw U30 im considering changing my nickname to \"\n",
      " the hell outta my freaking PM box .. Im with my fiance !!!!!!!!!!!!!!!! answe\n",
      "m impressed . PART hiya room lmao !!! im doin alright thanks omg Finger .. Dee\n",
      "th lol JOIN so read it . thanks U7 .. Im happy to have my fiance here !! forwa\n",
      "i didnt me phone you . . . sheesh now im that phone perv guy lets hope not U12\n",
      "to spain ? i need to go this summer . im a HUGE phone perv ok seriously who wa\n",
      "an ... . ACTION video tapes . hey U20 Im blind now . ACTION has left the room \n",
      "T u got that right , i dont do shit , im the supervisor Hello U165 . hey U165 \n",
      " him in the \" untouchable \" list U115 im good U6 lmao U7 how r u U128 hehe how\n",
      "can I ask where ya all are from ..... im here in kentucky as I said ... too wi\n",
      "ic but had to resize and stuff U37 no im an equal oppertunity hater LOL Hi , U\n",
      "he cover weeeeeeeee thanks U19 ! PART im out in cal now U3 looking at some new\n",
      " :) hi U58 lol wb U29 hi U29 U13 .... im down to time now PART Hello U24 , wel\n",
      ", I 'd never kick you outta my box hi im good thanks U16 yerself ?? PART inter\n",
      "ke wth . . who are you even ty U34 yw Im glad he 's back . awwww U16 i like ps\n",
      " ha U23 !!! wow ... are you the U39 ? Im talkin about all yer typin . . It 's \n",
      "... you ??? Apparently , I 'm not U41 im good U23 dear . How are you U23 ~wink\n",
      "~ U35 ... I love that 5 am phone call im good ... me and eric r back together \n",
      " , I am happy . You know i LuverZ YOU im the same busy busy oh ok then U1 nm l\n",
      "))) . ACTION stretches . ty U19 Ugh , Im so sore ! Repeatedly , with a big sti\n",
      "'m a size queen U41 Why U45 ? naw U23 im cheating on you with Jayse hes hawt t\n",
      "oeer is sum1 gonna ghet fuked up ? :) im always hungry yeah U45 .. i believe i\n",
      "without first asking permission . U35 im sorry U35 i tried to refrain me too U\n"
     ]
    }
   ],
   "source": [
    "text5.concordance('im')"
   ]
  },
  {
   "cell_type": "code",
   "execution_count": 17,
   "metadata": {},
   "outputs": [
    {
     "name": "stdout",
     "output_type": "stream",
     "text": [
      "Displaying 21 of 21 matches:\n",
      "k up PART no i dont want daughters !! ur annoying . ACTION Now Playing - Cradl\n",
      "ooo U92 !!!!!! . ACTION U1370 watches ur nad with a stick . ca u U23 ewwww lol\n",
      "er lip . Meep . ACTION is resisting . ur female right lol U115 beeeeehave Reme\n",
      " geeshh ... two kids fighting ! whats ur major i probably sucks in summer too \n",
      "II Men scorpions rock ... lol what is ur job me too U11 hehe went to manhattan\n",
      "e no one i like to say if u have done ur time then that is that U42 Ok U37 , i\n",
      "hat a ride JOIN ty ty cheers babes .. ur the first to follow up with the pseud\n",
      " charger \\ty LoL yeah ;-) well i hope ur doing ok .. i 'm dojn fine babe . . g\n",
      " gonna rock up soojn and rob u of all ur ' candy ' :) as long as you are happy\n",
      "genital warts ? LoL moped U28 ?.. ohh ur a real man i had a moped once yup heh\n",
      "b-day is in 5 days =( PART LOL U35 no ur nawt yup your gay lmao U37 dang come \n",
      " people talk to me anymore oh because ur gay . PART PART . ACTION = U58 . Man \n",
      " om hi U73 heya U7 ! h shit i get all ur money now fawker ok girl lol JOIN ed \n",
      "hat tired huh U66 ? lol U75 ... bring ur pillow get comfy U70 yep , off to bed\n",
      "talked to hi sean . ACTION whispers : ur a douche . who PART . ACTION whispers\n",
      "ew england usa ? U7 .. it adds wax to ur clothes .. u think cottons breathe ?.\n",
      "ver knew what flavor to get specially ur towels lol U31 < whistles > U34 U39 I\n",
      "cks out U7 s pic JOIN PART U41 Hi U41 ur gettin pretty savvy there U39 ahhh ..\n",
      "om ? brb U30 a week .. heck a day and ur problem there , U30 ??? Hi U34 hartfo\n",
      " JOIN U57 Whats really good room JOIN ur telllin me hey any uk girls her ? JOI\n",
      "JOIN PART JOIN JOIN yea guitar rocker ur kool u lil guitar rocker PART whats e\n"
     ]
    }
   ],
   "source": [
    "text5.concordance('ur')"
   ]
  },
  {
   "cell_type": "code",
   "execution_count": 18,
   "metadata": {},
   "outputs": [
    {
     "name": "stdout",
     "output_type": "stream",
     "text": [
      "Displaying 25 of 822 matches:\n",
      "ast PART 24 / m boo . 26 / m and sexy lol U115 boo . JOIN PART he drew a girl w\n",
      "ope he didnt draw a penis PART ewwwww lol & a head between her legs JOIN JOIN s\n",
      "a bowl i got a blunt an a bong ...... lol JOIN well , glad it worked out my cha\n",
      "e \" PART Hi U121 in ny . ACTION would lol @ U121 . . . but appearently she does\n",
      "30 make sure u buy a nice ring for U6 lol U7 Hi U115 . ACTION isnt falling for \n",
      " didnt ya hear !!!! PART JOIN geeshhh lol U6 PART hes deaf ppl here dont get it\n",
      "es nobody here i wanna misbeahve with lol JOIN so read it . thanks U7 .. Im hap\n",
      "ies want to chat can i talk to him !! lol U121 !!! forwards too lol JOIN ALL PE\n",
      "k to him !! lol U121 !!! forwards too lol JOIN ALL PErvs ... redirect to U121 '\n",
      " loves ME the most i love myself JOIN lol U44 how do u know that what ? jerkett\n",
      "ng wrong ... i can see it in his eyes lol U20 = fiance Jerketts lmao wtf yah I \n",
      "cooler by the minute what 'd I miss ? lol noo there too much work ! why not ?? \n",
      " that mean I want you ? U6 hello room lol U83 and this .. has been the grammar \n",
      " the rule he 's in PM land now though lol ah ok i wont bug em then someone wann\n",
      "flight to hell :) lmao bbl maybe PART LOL lol U7 it was me , U83 hahah U83 ! 80\n",
      "ht to hell :) lmao bbl maybe PART LOL lol U7 it was me , U83 hahah U83 ! 808265\n",
      "082653953 K-Fed got his ass kicked .. Lol . ACTION laughs . i got a first class\n",
      " . i got a first class ticket to hell lol U7 JOIN any texas girls in here ? any\n",
      " . whats up U155 i was only kidding . lol he 's a douchebag . Poor U121 i 'm bo\n",
      " ??? sits with U30 Cum to my shower . lol U121 . ACTION U1370 watches his nads \n",
      " ur nad with a stick . ca u U23 ewwww lol *sniffs* ewwwwww PART U115 ! owww spl\n",
      "ACTION is resisting . ur female right lol U115 beeeeehave Remember the LAst tim\n",
      "pm's me . charge that is 1.99 / min . lol @ innocent hahah lol .... yeah LOLOLO\n",
      " is 1.99 / min . lol @ innocent hahah lol .... yeah LOLOLOLLL U12 thats not nic\n",
      "s . lmao no U115 Check my record . :) Lol lick em U7 U23 how old r u lol Way to\n"
     ]
    }
   ],
   "source": [
    "text5.concordance('lol')"
   ]
  },
  {
   "cell_type": "code",
   "execution_count": 19,
   "metadata": {},
   "outputs": [
    {
     "name": "stdout",
     "output_type": "stream",
     "text": [
      "true contemptible christian abundant few part mean careful puzzled\n",
      "mystifying passing curious loving wise doleful gamesome singular\n",
      "delightfully perilous fearless\n"
     ]
    }
   ],
   "source": [
    "text1.similar('monstrous')"
   ]
  },
  {
   "cell_type": "code",
   "execution_count": 20,
   "metadata": {},
   "outputs": [
    {
     "name": "stdout",
     "output_type": "stream",
     "text": [
      "very so exceedingly heartily a as good great extremely remarkably\n",
      "sweet vast amazingly\n"
     ]
    }
   ],
   "source": [
    "text2.similar('monstrous')"
   ]
  },
  {
   "cell_type": "code",
   "execution_count": 24,
   "metadata": {},
   "outputs": [
    {
     "name": "stdout",
     "output_type": "stream",
     "text": [
      "old young silent good two little only new big ordinary third humble\n",
      "proud rich same enormous poor greatest three crooked\n"
     ]
    }
   ],
   "source": [
    "text9.similar('monstrous')"
   ]
  },
  {
   "cell_type": "code",
   "execution_count": 25,
   "metadata": {},
   "outputs": [
    {
     "name": "stdout",
     "output_type": "stream",
     "text": [
      "a_pretty am_glad a_lucky is_pretty be_glad\n"
     ]
    }
   ],
   "source": [
    "text2.common_contexts([\"monstrous\", \"very\"])"
   ]
  },
  {
   "cell_type": "code",
   "execution_count": 26,
   "metadata": {},
   "outputs": [
    {
     "data": {
      "image/png": "[encoded data removed]",
      "text/plain": [
       "<matplotlib.figure.Figure at 0x2a10aea1780>"
      ]
     },
     "metadata": {},
     "output_type": "display_data"
    }
   ],
   "source": [
    "text4.dispersion_plot([\"citizens\", \"democracy\", \"freedom\", \"duties\", \"America\"])"
   ]
  },
  {
   "cell_type": "code",
   "execution_count": 27,
   "metadata": {},
   "outputs": [
    {
     "data": {
      "image/png": "[encoded data removed]",
      "text/plain": [
       "<matplotlib.figure.Figure at 0x2a117d60588>"
      ]
     },
     "metadata": {},
     "output_type": "display_data"
    }
   ],
   "source": [
    "text4.dispersion_plot([\"liberty\", \"constitution\"])"
   ]
  },
  {
   "cell_type": "code",
   "execution_count": 33,
   "metadata": {},
   "outputs": [
    {
     "data": {
      "text/plain": [
       "260819"
      ]
     },
     "execution_count": 33,
     "metadata": {},
     "output_type": "execute_result"
    }
   ],
   "source": [
    "len(text1)"
   ]
  },
  {
   "cell_type": "code",
   "execution_count": 34,
   "metadata": {},
   "outputs": [
    {
     "data": {
      "text/plain": [
       "44764"
      ]
     },
     "execution_count": 34,
     "metadata": {},
     "output_type": "execute_result"
    }
   ],
   "source": [
    "len(text3)"
   ]
  },
  {
   "cell_type": "code",
   "execution_count": 35,
   "metadata": {},
   "outputs": [
    {
     "data": {
      "text/plain": [
       "2789"
      ]
     },
     "execution_count": 35,
     "metadata": {},
     "output_type": "execute_result"
    }
   ],
   "source": [
    "len(set(text3))"
   ]
  },
  {
   "cell_type": "code",
   "execution_count": 39,
   "metadata": {},
   "outputs": [
    {
     "data": {
      "text/plain": [
       "16.050197203298673"
      ]
     },
     "execution_count": 39,
     "metadata": {},
     "output_type": "execute_result"
    }
   ],
   "source": [
    "len(text3) / len(set(text3))\n",
    "# The result shows that each word is used 16 times on average in text3"
   ]
  },
  {
   "cell_type": "code",
   "execution_count": 40,
   "metadata": {},
   "outputs": [
    {
     "data": {
      "text/plain": [
       "13.502044830977896"
      ]
     },
     "execution_count": 40,
     "metadata": {},
     "output_type": "execute_result"
    }
   ],
   "source": [
    "len(text1) / len(set(text1))\n",
    "# The result shows that each word is used 13 times on average in text1"
   ]
  },
  {
   "cell_type": "code",
   "execution_count": 41,
   "metadata": {},
   "outputs": [
    {
     "data": {
      "text/plain": [
       "10.167915381225209"
      ]
     },
     "execution_count": 41,
     "metadata": {},
     "output_type": "execute_result"
    }
   ],
   "source": [
    "len(text9) / len(set(text9))\n",
    "# The result shows each wordd is used 10 times on average in text9"
   ]
  },
  {
   "cell_type": "code",
   "execution_count": 43,
   "metadata": {},
   "outputs": [
    {
     "data": {
      "text/plain": [
       "5"
      ]
     },
     "execution_count": 43,
     "metadata": {},
     "output_type": "execute_result"
    }
   ],
   "source": [
    "# How many times does thw word 'smote' appear in text5?\n",
    "text3.count('smote')"
   ]
  },
  {
   "cell_type": "code",
   "execution_count": 45,
   "metadata": {},
   "outputs": [
    {
     "data": {
      "text/plain": [
       "1.4643016433938312"
      ]
     },
     "execution_count": 45,
     "metadata": {},
     "output_type": "execute_result"
    }
   ],
   "source": [
    "# How much is 'a' as a percentage of the total number of words in the text4?\n",
    "100 * text4.count('a') / len(text4)"
   ]
  },
  {
   "cell_type": "code",
   "execution_count": 46,
   "metadata": {},
   "outputs": [
    {
     "data": {
      "text/plain": [
       "704"
      ]
     },
     "execution_count": 46,
     "metadata": {},
     "output_type": "execute_result"
    }
   ],
   "source": [
    "# How many times does thw word 'lol' appears in text5?\n",
    "text5.count('lol')"
   ]
  },
  {
   "cell_type": "code",
   "execution_count": 47,
   "metadata": {},
   "outputs": [
    {
     "data": {
      "text/plain": [
       "1.5640968673628082"
      ]
     },
     "execution_count": 47,
     "metadata": {},
     "output_type": "execute_result"
    }
   ],
   "source": [
    "# How much is this as a percentage of the total number of words in text5?\n",
    "100 * text5.count('lol') / len(text5)"
   ]
  },
  {
   "cell_type": "code",
   "execution_count": 48,
   "metadata": {},
   "outputs": [],
   "source": [
    "#  Average of each word used in the given text\n",
    "def lexical_diversity(text):\n",
    "    return len(text)/len(set(text))"
   ]
  },
  {
   "cell_type": "code",
   "execution_count": 50,
   "metadata": {},
   "outputs": [],
   "source": [
    "# How much is the percentage of given word out of the total number of words in given text?\n",
    "def percentage(count, total):\n",
    "    return 100 * count / total"
   ]
  },
  {
   "cell_type": "code",
   "execution_count": 51,
   "metadata": {},
   "outputs": [
    {
     "data": {
      "text/plain": [
       "4.39259927797834"
      ]
     },
     "execution_count": 51,
     "metadata": {},
     "output_type": "execute_result"
    }
   ],
   "source": [
    "lexical_diversity(text8)\n",
    "# The result shows that each word is used 4 times on average in text3"
   ]
  },
  {
   "cell_type": "code",
   "execution_count": 52,
   "metadata": {},
   "outputs": [
    {
     "data": {
      "text/plain": [
       "8.113797549967762"
      ]
     },
     "execution_count": 52,
     "metadata": {},
     "output_type": "execute_result"
    }
   ],
   "source": [
    "lexical_diversity(text7)\n",
    "# The result shows that each word is used 8 times in the text7"
   ]
  },
  {
   "cell_type": "code",
   "execution_count": 54,
   "metadata": {},
   "outputs": [
    {
     "data": {
      "text/plain": [
       "7.833333333333333"
      ]
     },
     "execution_count": 54,
     "metadata": {},
     "output_type": "execute_result"
    }
   ],
   "source": [
    "lexical_diversity(text6)\n",
    "# The result shows each word is used 7 times on average in text6"
   ]
  },
  {
   "cell_type": "code",
   "execution_count": 56,
   "metadata": {},
   "outputs": [
    {
     "data": {
      "text/plain": [
       "0.003834076505162584"
      ]
     },
     "execution_count": 56,
     "metadata": {},
     "output_type": "execute_result"
    }
   ],
   "source": [
    "# How much is the percentage of word 'monstrous' in text1?\n",
    "percentage (text1.count('monstrous'), len(text1))"
   ]
  },
  {
   "cell_type": "code",
   "execution_count": 57,
   "metadata": {},
   "outputs": [
    {
     "data": {
      "text/plain": [
       "1.0"
      ]
     },
     "execution_count": 57,
     "metadata": {},
     "output_type": "execute_result"
    }
   ],
   "source": [
    "lexical_diversity(sent1)\n",
    "# The result shows that each word is used 1 times on average in sent1"
   ]
  },
  {
   "cell_type": "code",
   "execution_count": 59,
   "metadata": {},
   "outputs": [
    {
     "data": {
      "text/plain": [
       "1.0"
      ]
     },
     "execution_count": 59,
     "metadata": {},
     "output_type": "execute_result"
    }
   ],
   "source": [
    "lexical_diversity(sent2)\n",
    "# The result shows that eacj word is used 1 times on average in sent2"
   ]
  },
  {
   "cell_type": "code",
   "execution_count": 60,
   "metadata": {},
   "outputs": [
    {
     "data": {
      "text/plain": [
       "1.2222222222222223"
      ]
     },
     "execution_count": 60,
     "metadata": {},
     "output_type": "execute_result"
    }
   ],
   "source": [
    "lexical_diversity(sent3)\n",
    "# The result shows each word is used 1 times on average in sent3"
   ]
  },
  {
   "cell_type": "code",
   "execution_count": 62,
   "metadata": {},
   "outputs": [
    {
     "name": "stdout",
     "output_type": "stream",
     "text": [
      "['In', 'the', 'beginning', 'God', 'created', 'the', 'heaven', 'and', 'the', 'earth', '.']\n"
     ]
    }
   ],
   "source": [
    "print(sent3)"
   ]
  },
  {
   "cell_type": "code",
   "execution_count": 63,
   "metadata": {},
   "outputs": [
    {
     "data": {
      "text/plain": [
       "27.272727272727273"
      ]
     },
     "execution_count": 63,
     "metadata": {},
     "output_type": "execute_result"
    }
   ],
   "source": [
    "# How much is the percentage of the word 'the' in sent3?\n",
    "percentage(sent3.count('the'), len(sent3))"
   ]
  },
  {
   "cell_type": "code",
   "execution_count": 64,
   "metadata": {},
   "outputs": [],
   "source": [
    "# Lets assume a list\n",
    "ex1 = ['Monty', 'Python', 'and', 'the', 'Holy', 'Grail']"
   ]
  },
  {
   "cell_type": "code",
   "execution_count": 65,
   "metadata": {},
   "outputs": [
    {
     "data": {
      "text/plain": [
       "['Grail', 'Holy', 'Monty', 'Python', 'and', 'the']"
      ]
     },
     "execution_count": 65,
     "metadata": {},
     "output_type": "execute_result"
    }
   ],
   "source": [
    "sorted(ex1)"
   ]
  },
  {
   "cell_type": "code",
   "execution_count": 66,
   "metadata": {},
   "outputs": [
    {
     "data": {
      "text/plain": [
       "6"
      ]
     },
     "execution_count": 66,
     "metadata": {},
     "output_type": "execute_result"
    }
   ],
   "source": [
    "len(set(ex1))"
   ]
  },
  {
   "cell_type": "code",
   "execution_count": 67,
   "metadata": {},
   "outputs": [
    {
     "data": {
      "text/plain": [
       "1"
      ]
     },
     "execution_count": 67,
     "metadata": {},
     "output_type": "execute_result"
    }
   ],
   "source": [
    "ex1.count('the')"
   ]
  },
  {
   "cell_type": "code",
   "execution_count": 68,
   "metadata": {},
   "outputs": [
    {
     "data": {
      "text/plain": [
       "'awaken'"
      ]
     },
     "execution_count": 68,
     "metadata": {},
     "output_type": "execute_result"
    }
   ],
   "source": [
    "text4[173]"
   ]
  },
  {
   "cell_type": "code",
   "execution_count": 69,
   "metadata": {},
   "outputs": [
    {
     "data": {
      "text/plain": [
       "173"
      ]
     },
     "execution_count": 69,
     "metadata": {},
     "output_type": "execute_result"
    }
   ],
   "source": [
    "text4.index('awaken')"
   ]
  },
  {
   "cell_type": "code",
   "execution_count": 71,
   "metadata": {},
   "outputs": [
    {
     "name": "stdout",
     "output_type": "stream",
     "text": [
      "['U86', 'thats', 'why', 'something', 'like', 'gamefly', 'is', 'so', 'good', 'because', 'you', 'can', 'actually', 'play', 'a', 'full', 'game', 'without', 'buying', 'it']\n"
     ]
    }
   ],
   "source": [
    "print(text5[16715:16735])"
   ]
  },
  {
   "cell_type": "code",
   "execution_count": 75,
   "metadata": {},
   "outputs": [
    {
     "name": "stdout",
     "output_type": "stream",
     "text": [
      "[\"'\", '-', '.', 'We', 'We', 'a', 'act', 'an', 'anarcho', 'as', 'commune', 'executive', 'for', 'in', 'it', 'of', 'officer', 're', 'sort', 'syndicalist', 'take', 'the', 'to', 'turns', 'week']\n"
     ]
    }
   ],
   "source": [
    "sub_text6 = text6[1600:1625]\n",
    "print(sorted(sub_text6))"
   ]
  },
  {
   "cell_type": "markdown",
   "metadata": {},
   "source": [
    "#### Computing With Language And Simple statistics "
   ]
  },
  {
   "cell_type": "code",
   "execution_count": 76,
   "metadata": {},
   "outputs": [],
   "source": [
    "fdist1 = FreqDist(text1)"
   ]
  },
  {
   "cell_type": "code",
   "execution_count": 81,
   "metadata": {},
   "outputs": [],
   "source": [
    "vocab1 = fdist1.keys()"
   ]
  },
  {
   "cell_type": "code",
   "execution_count": 98,
   "metadata": {},
   "outputs": [
    {
     "data": {
      "image/png": "[encoded data removed]",
      "text/plain": [
       "<matplotlib.figure.Figure at 0x2a1352d2b70>"
      ]
     },
     "metadata": {},
     "output_type": "display_data"
    }
   ],
   "source": [
    "# Cumulative freq plot of the words in text1\n",
    "# 40 most frequent words in text1\n",
    "fdist1.plot(40, cumulative=True)\n"
   ]
  },
  {
   "cell_type": "code",
   "execution_count": 99,
   "metadata": {},
   "outputs": [
    {
     "data": {
      "image/png": "[encoded data removed]",
      "text/plain": [
       "<matplotlib.figure.Figure at 0x2a134183208>"
      ]
     },
     "metadata": {},
     "output_type": "display_data"
    }
   ],
   "source": [
    "fdist2 = FreqDist(text2)\n",
    "fdist2.plot(40, cumulative= True)"
   ]
  },
  {
   "cell_type": "code",
   "execution_count": 102,
   "metadata": {},
   "outputs": [
    {
     "data": {
      "image/png": "[encoded data removed]",
      "text/plain": [
       "<matplotlib.figure.Figure at 0x2a1317e3128>"
      ]
     },
     "metadata": {},
     "output_type": "display_data"
    }
   ],
   "source": [
    "fdist6 = FreqDist(text6)\n",
    "fdist6.plot(35, cumulative = True)"
   ]
  },
  {
   "cell_type": "code",
   "execution_count": 105,
   "metadata": {},
   "outputs": [],
   "source": [
    "# Words that appear once only\n",
    "one_time = fdist1.hapaxes()"
   ]
  },
  {
   "cell_type": "code",
   "execution_count": 106,
   "metadata": {},
   "outputs": [],
   "source": [
    "import nltk"
   ]
  },
  {
   "cell_type": "code",
   "execution_count": 107,
   "metadata": {},
   "outputs": [
    {
     "data": {
      "text/plain": [
       "['austen-emma.txt',\n",
       " 'austen-persuasion.txt',\n",
       " 'austen-sense.txt',\n",
       " 'bible-kjv.txt',\n",
       " 'blake-poems.txt',\n",
       " 'bryant-stories.txt',\n",
       " 'burgess-busterbrown.txt',\n",
       " 'carroll-alice.txt',\n",
       " 'chesterton-ball.txt',\n",
       " 'chesterton-brown.txt',\n",
       " 'chesterton-thursday.txt',\n",
       " 'edgeworth-parents.txt',\n",
       " 'melville-moby_dick.txt',\n",
       " 'milton-paradise.txt',\n",
       " 'shakespeare-caesar.txt',\n",
       " 'shakespeare-hamlet.txt',\n",
       " 'shakespeare-macbeth.txt',\n",
       " 'whitman-leaves.txt']"
      ]
     },
     "execution_count": 107,
     "metadata": {},
     "output_type": "execute_result"
    }
   ],
   "source": [
    "nltk.corpus.gutenberg.fileids()"
   ]
  },
  {
   "cell_type": "code",
   "execution_count": 109,
   "metadata": {},
   "outputs": [],
   "source": [
    "emma = nltk.corpus.gutenberg.words('austen-emma.txt')"
   ]
  },
  {
   "cell_type": "code",
   "execution_count": 110,
   "metadata": {},
   "outputs": [
    {
     "data": {
      "text/plain": [
       "192427"
      ]
     },
     "execution_count": 110,
     "metadata": {},
     "output_type": "execute_result"
    }
   ],
   "source": [
    "len(emma)"
   ]
  },
  {
   "cell_type": "code",
   "execution_count": 111,
   "metadata": {},
   "outputs": [],
   "source": [
    "emma = nltk.Text(nltk.corpus.gutenberg.words('austen-emma.txt'))"
   ]
  },
  {
   "cell_type": "code",
   "execution_count": 112,
   "metadata": {},
   "outputs": [
    {
     "name": "stdout",
     "output_type": "stream",
     "text": [
      "Displaying 25 of 37 matches:\n",
      "er father , was sometimes taken by surprize at his being still able to pity ` \n",
      "hem do the other any good .\" \" You surprize me ! Emma must do Harriet good : a\n",
      "Knightley actually looked red with surprize and displeasure , as he stood up ,\n",
      "r . Elton , and found to his great surprize , that Mr . Elton was actually on \n",
      "d aid .\" Emma saw Mrs . Weston ' s surprize , and felt that it must be great ,\n",
      "father was quite taken up with the surprize of so sudden a journey , and his f\n",
      "y , in all the favouring warmth of surprize and conjecture . She was , moreove\n",
      "he appeared , to have her share of surprize , introduction , and pleasure . Th\n",
      "ir plans ; and it was an agreeable surprize to her , therefore , to perceive t\n",
      "talking aunt had taken me quite by surprize , it must have been the death of m\n",
      "f all the dialogue which ensued of surprize , and inquiry , and congratulation\n",
      " the present . They might chuse to surprize her .\" Mrs . Cole had many to agre\n",
      "the mode of it , the mystery , the surprize , is more like a young woman ' s s\n",
      " to her song took her agreeably by surprize -- a second , slightly but correct\n",
      "\" \" Oh ! no -- there is nothing to surprize one at all .-- A pretty fortune ; \n",
      "t to be considered . Emma ' s only surprize was that Jane Fairfax should accep\n",
      "of your admiration may take you by surprize some day or other .\" Mr . Knightle\n",
      "ation for her will ever take me by surprize .-- I never had a thought of her i\n",
      " expected by the best judges , for surprize -- but there was great joy . Mr . \n",
      " sound of at first , without great surprize . \" So unreasonably early !\" she w\n",
      "d Frank Churchill , with a look of surprize and displeasure .-- \" That is easy\n",
      "; and Emma could imagine with what surprize and mortification she must be retu\n",
      "tled that Jane should go . Quite a surprize to me ! I had not the least idea !\n",
      " . It is impossible to express our surprize . He came to speak to his father o\n",
      "g engaged !\" Emma even jumped with surprize ;-- and , horror - struck , exclai\n"
     ]
    }
   ],
   "source": [
    "emma.concordance(\"surprize\")"
   ]
  },
  {
   "cell_type": "code",
   "execution_count": 113,
   "metadata": {},
   "outputs": [],
   "source": [
    "from nltk.corpus import gutenberg"
   ]
  },
  {
   "cell_type": "code",
   "execution_count": 114,
   "metadata": {},
   "outputs": [
    {
     "data": {
      "text/plain": [
       "['austen-emma.txt',\n",
       " 'austen-persuasion.txt',\n",
       " 'austen-sense.txt',\n",
       " 'bible-kjv.txt',\n",
       " 'blake-poems.txt',\n",
       " 'bryant-stories.txt',\n",
       " 'burgess-busterbrown.txt',\n",
       " 'carroll-alice.txt',\n",
       " 'chesterton-ball.txt',\n",
       " 'chesterton-brown.txt',\n",
       " 'chesterton-thursday.txt',\n",
       " 'edgeworth-parents.txt',\n",
       " 'melville-moby_dick.txt',\n",
       " 'milton-paradise.txt',\n",
       " 'shakespeare-caesar.txt',\n",
       " 'shakespeare-hamlet.txt',\n",
       " 'shakespeare-macbeth.txt',\n",
       " 'whitman-leaves.txt']"
      ]
     },
     "execution_count": 114,
     "metadata": {},
     "output_type": "execute_result"
    }
   ],
   "source": [
    "gutenberg.fileids()"
   ]
  },
  {
   "cell_type": "code",
   "execution_count": 117,
   "metadata": {},
   "outputs": [
    {
     "data": {
      "text/plain": [
       "98171"
      ]
     },
     "execution_count": 117,
     "metadata": {},
     "output_type": "execute_result"
    }
   ],
   "source": [
    "emma = gutenberg.words('austen-persuasion.txt')\n",
    "len(emma)"
   ]
  },
  {
   "cell_type": "code",
   "execution_count": 119,
   "metadata": {},
   "outputs": [
    {
     "data": {
      "text/plain": [
       "3747"
      ]
     },
     "execution_count": 119,
     "metadata": {},
     "output_type": "execute_result"
    }
   ],
   "source": [
    "len(gutenberg.sents('austen-persuasion.txt'))"
   ]
  },
  {
   "cell_type": "code",
   "execution_count": 120,
   "metadata": {},
   "outputs": [
    {
     "data": {
      "text/plain": [
       "466292"
      ]
     },
     "execution_count": 120,
     "metadata": {},
     "output_type": "execute_result"
    }
   ],
   "source": [
    "len(gutenberg.raw('austen-persuasion.txt')) # total no. of letters including white spaces"
   ]
  },
  {
   "cell_type": "code",
   "execution_count": 121,
   "metadata": {},
   "outputs": [
    {
     "data": {
      "text/plain": [
       "38153"
      ]
     },
     "execution_count": 121,
     "metadata": {},
     "output_type": "execute_result"
    }
   ],
   "source": [
    "len(gutenberg.raw('blake-poems.txt'))"
   ]
  },
  {
   "cell_type": "code",
   "execution_count": 122,
   "metadata": {},
   "outputs": [],
   "source": [
    "macbeth_sentences = gutenberg.sents('shakespeare-macbeth.txt')"
   ]
  },
  {
   "cell_type": "code",
   "execution_count": 123,
   "metadata": {},
   "outputs": [
    {
     "data": {
      "text/plain": [
       "[['[', 'The', 'Tragedie', 'of', 'Macbeth', 'by', 'William', 'Shakespeare', '1603', ']'], ['Actus', 'Primus', '.'], ...]"
      ]
     },
     "execution_count": 123,
     "metadata": {},
     "output_type": "execute_result"
    }
   ],
   "source": [
    "# The sents() function divides the text up into its sentences, where each sentence is a list of words.\n",
    "macbeth_sentences"
   ]
  },
  {
   "cell_type": "code",
   "execution_count": 125,
   "metadata": {},
   "outputs": [
    {
     "data": {
      "text/plain": [
       "['Good', 'night', ',', 'and', 'better', 'health', 'Attend', 'his', 'Maiesty']"
      ]
     },
     "execution_count": 125,
     "metadata": {},
     "output_type": "execute_result"
    }
   ],
   "source": [
    "macbeth_sentences[1037]"
   ]
  },
  {
   "cell_type": "code",
   "execution_count": 126,
   "metadata": {},
   "outputs": [],
   "source": [
    "longest_len = max([len(s) for s in macbeth_sentences])"
   ]
  },
  {
   "cell_type": "code",
   "execution_count": 127,
   "metadata": {},
   "outputs": [
    {
     "data": {
      "text/plain": [
       "158"
      ]
     },
     "execution_count": 127,
     "metadata": {},
     "output_type": "execute_result"
    }
   ],
   "source": [
    "longest_len"
   ]
  },
  {
   "cell_type": "code",
   "execution_count": 129,
   "metadata": {},
   "outputs": [
    {
     "name": "stdout",
     "output_type": "stream",
     "text": [
      "[['Doubtfull', 'it', 'stood', ',', 'As', 'two', 'spent', 'Swimmers', ',', 'that', 'doe', 'cling', 'together', ',', 'And', 'choake', 'their', 'Art', ':', 'The', 'mercilesse', 'Macdonwald', '(', 'Worthie', 'to', 'be', 'a', 'Rebell', ',', 'for', 'to', 'that', 'The', 'multiplying', 'Villanies', 'of', 'Nature', 'Doe', 'swarme', 'vpon', 'him', ')', 'from', 'the', 'Westerne', 'Isles', 'Of', 'Kernes', 'and', 'Gallowgrosses', 'is', 'supply', \"'\", 'd', ',', 'And', 'Fortune', 'on', 'his', 'damned', 'Quarry', 'smiling', ',', 'Shew', \"'\", 'd', 'like', 'a', 'Rebells', 'Whore', ':', 'but', 'all', \"'\", 's', 'too', 'weake', ':', 'For', 'braue', 'Macbeth', '(', 'well', 'hee', 'deserues', 'that', 'Name', ')', 'Disdayning', 'Fortune', ',', 'with', 'his', 'brandisht', 'Steele', ',', 'Which', 'smoak', \"'\", 'd', 'with', 'bloody', 'execution', '(', 'Like', 'Valours', 'Minion', ')', 'caru', \"'\", 'd', 'out', 'his', 'passage', ',', 'Till', 'hee', 'fac', \"'\", 'd', 'the', 'Slaue', ':', 'Which', 'neu', \"'\", 'r', 'shooke', 'hands', ',', 'nor', 'bad', 'farwell', 'to', 'him', ',', 'Till', 'he', 'vnseam', \"'\", 'd', 'him', 'from', 'the', 'Naue', 'toth', \"'\", 'Chops', ',', 'And', 'fix', \"'\", 'd', 'his', 'Head', 'vpon', 'our', 'Battlements']]\n"
     ]
    }
   ],
   "source": [
    "print([s for s in macbeth_sentences if len(s) == longest_len])"
   ]
  },
  {
   "cell_type": "code",
   "execution_count": 130,
   "metadata": {},
   "outputs": [],
   "source": [
    "blake_poems = gutenberg.sents('blake-poems.txt')"
   ]
  },
  {
   "cell_type": "code",
   "execution_count": 131,
   "metadata": {},
   "outputs": [],
   "source": [
    "long_len = max([len(s) for s in blake_poems])"
   ]
  },
  {
   "cell_type": "code",
   "execution_count": 132,
   "metadata": {},
   "outputs": [
    {
     "data": {
      "text/plain": [
       "93"
      ]
     },
     "execution_count": 132,
     "metadata": {},
     "output_type": "execute_result"
    }
   ],
   "source": [
    "long_len"
   ]
  },
  {
   "cell_type": "code",
   "execution_count": 133,
   "metadata": {},
   "outputs": [
    {
     "name": "stdout",
     "output_type": "stream",
     "text": [
      "[['I', 'fear', 'that', 'I', 'am', 'not', 'like', 'thee', ':', 'For', 'I', 'walk', 'through', 'the', 'vales', 'of', 'Har', ',', 'and', 'smell', 'the', 'sweetest', 'flowers', ':', 'But', 'I', 'feed', 'not', 'the', 'little', 'flowers', ':', 'I', 'hear', 'the', 'warbling', 'birds', ',', 'But', 'I', 'feed', 'not', 'the', 'warbling', 'birds', ',', 'they', 'fly', 'and', 'seek', 'their', 'food', ':', 'But', 'Thel', 'delights', 'in', 'these', 'no', 'more', 'because', 'I', 'fade', 'away', 'And', 'all', 'shall', 'say', ',', 'without', 'a', 'use', 'this', 'shining', 'women', 'liv', \"'\", 'd', ',', 'Or', 'did', 'she', 'only', 'live', 'to', 'be', 'at', 'death', 'the', 'food', 'of', 'worms', '.']]\n"
     ]
    }
   ],
   "source": [
    "print([s for s in blake_poems if len(s) == long_len])"
   ]
  },
  {
   "cell_type": "code",
   "execution_count": null,
   "metadata": {},
   "outputs": [],
   "source": []
  }
 ],
 "metadata": {
  "kernelspec": {
   "display_name": "Python 3",
   "language": "python",
   "name": "python3"
  },
  "language_info": {
   "codemirror_mode": {
    "name": "ipython",
    "version": 3
   },
   "file_extension": ".py",
   "mimetype": "text/x-python",
   "name": "python",
   "nbconvert_exporter": "python",
   "pygments_lexer": "ipython3",
   "version": "3.6.3"
  }
 },
 "nbformat": 4,
 "nbformat_minor": 2
}
